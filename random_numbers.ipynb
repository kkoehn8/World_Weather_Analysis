{
 "cells": [
  {
   "cell_type": "code",
   "execution_count": 1,
   "id": "1afc7efd",
   "metadata": {},
   "outputs": [],
   "source": [
    "# Import the random module.\n",
    "import random"
   ]
  },
  {
   "cell_type": "code",
   "execution_count": 2,
   "id": "d6fa3aa7-6528-4234-9f45-61ad8c17655b",
   "metadata": {},
   "outputs": [
    {
     "data": {
      "text/plain": [
       "-29"
      ]
     },
     "execution_count": 2,
     "metadata": {},
     "output_type": "execute_result"
    }
   ],
   "source": [
    "random.randint(-90, 90)"
   ]
  },
  {
   "cell_type": "code",
   "execution_count": 3,
   "id": "cf47bb0c-af0a-4573-b7b7-bb81b4f00e8e",
   "metadata": {},
   "outputs": [
    {
     "data": {
      "text/plain": [
       "0.15977352889517116"
      ]
     },
     "execution_count": 3,
     "metadata": {},
     "output_type": "execute_result"
    }
   ],
   "source": [
    "random.random()"
   ]
  },
  {
   "cell_type": "code",
   "execution_count": 5,
   "id": "7a8f6dd5-be26-47f3-b7c6-29490d0f9d18",
   "metadata": {},
   "outputs": [
    {
     "data": {
      "text/plain": [
       "72.18156050435547"
      ]
     },
     "execution_count": 5,
     "metadata": {},
     "output_type": "execute_result"
    }
   ],
   "source": [
    "random_number = random.randint(-90, 90) + random.random()\n",
    "random_number"
   ]
  },
  {
   "cell_type": "code",
   "execution_count": 9,
   "id": "6e04bd32-230f-428c-bcca-66b106d64174",
   "metadata": {},
   "outputs": [
    {
     "data": {
      "text/plain": [
       "[-54.69657815436445,\n",
       " 79.61094287430222,\n",
       " -14.993911518780536,\n",
       " -73.65200970344452,\n",
       " -47.912009274429224,\n",
       " 74.61969558585584,\n",
       " 12.931872822948625,\n",
       " -89.67082201028815,\n",
       " 47.993130280680084,\n",
       " -84.51285996525755]"
      ]
     },
     "execution_count": 9,
     "metadata": {},
     "output_type": "execute_result"
    }
   ],
   "source": [
    "x = 1\n",
    "latitudes = []\n",
    "while x < 11:\n",
    "    random_lat = random.randint(-90, 89) + random.random()\n",
    "    latitudes.append(random_lat)\n",
    "    x += 1\n",
    "latitudes\n"
   ]
  },
  {
   "cell_type": "code",
   "execution_count": 10,
   "id": "34fc6f1c-537d-4fdf-8665-2cffa694555d",
   "metadata": {},
   "outputs": [
    {
     "data": {
      "text/plain": [
       "-49"
      ]
     },
     "execution_count": 10,
     "metadata": {},
     "output_type": "execute_result"
    }
   ],
   "source": [
    "random.randrange(-90, 90, step=1)"
   ]
  },
  {
   "cell_type": "code",
   "execution_count": 11,
   "id": "914453b5-5e46-4ad0-a86c-c1a39abfa632",
   "metadata": {},
   "outputs": [
    {
     "data": {
      "text/plain": [
       "30"
      ]
     },
     "execution_count": 11,
     "metadata": {},
     "output_type": "execute_result"
    }
   ],
   "source": [
    "random.randrange(-90, 90, step=3)"
   ]
  },
  {
   "cell_type": "code",
   "execution_count": 12,
   "id": "5f099940-eb95-4b6a-981a-0c2a73b0b68b",
   "metadata": {},
   "outputs": [
    {
     "data": {
      "text/plain": [
       "-56.12076248409663"
      ]
     },
     "execution_count": 12,
     "metadata": {},
     "output_type": "execute_result"
    }
   ],
   "source": [
    "random.uniform(-90, 90)"
   ]
  },
  {
   "cell_type": "code",
   "execution_count": 13,
   "id": "2e4fd326-acf9-4269-b18d-1a6ef699eaa7",
   "metadata": {},
   "outputs": [],
   "source": [
    "# Import the NumPy module.\n",
    "import numpy as np"
   ]
  },
  {
   "cell_type": "code",
   "execution_count": 14,
   "id": "1f170cca-f505-4287-8a3a-a9f269df1cf8",
   "metadata": {},
   "outputs": [
    {
     "data": {
      "text/plain": [
       "-46.88333835530294"
      ]
     },
     "execution_count": 14,
     "metadata": {},
     "output_type": "execute_result"
    }
   ],
   "source": [
    "np.random.uniform(-90.000, 90.000)"
   ]
  },
  {
   "cell_type": "code",
   "execution_count": 15,
   "id": "eaa0154a-710c-48ac-86c0-f99e8f49f6a8",
   "metadata": {},
   "outputs": [
    {
     "data": {
      "text/plain": [
       "array([-10.84000776, -88.33074384, -69.19567962,  -6.94096458,\n",
       "        29.5075794 ,  23.26137935, -33.90376698,  12.36795659,\n",
       "       -21.53221803,  33.65982441,   8.76016331,  64.58512372,\n",
       "       -60.441215  ,  57.18516952, -63.18206127,   0.29573506,\n",
       "        34.97722232,  29.31326397,  22.02231861,  11.98990906,\n",
       "        12.26767845, -21.26154973,  53.75029966,  58.68970184,\n",
       "         2.56737638,  -6.84833332, -22.44601534,   2.62858891,\n",
       "        62.21047258, -67.62238314,  10.9197126 , -77.0523111 ,\n",
       "       -83.06377047,  20.17653621,  75.72725652, -39.50114089,\n",
       "       -21.3210242 ,  35.75488078,  62.70613213, -81.29324569,\n",
       "       -89.19780215, -74.4677638 , -26.61218904,  15.60074215,\n",
       "       -28.54891505,  72.78235698, -83.42390787,   7.61374161,\n",
       "        12.53597193,  60.32526535])"
      ]
     },
     "execution_count": 15,
     "metadata": {},
     "output_type": "execute_result"
    }
   ],
   "source": [
    "np.random.uniform(-90.000, 90.000, size=50)\n"
   ]
  },
  {
   "cell_type": "code",
   "execution_count": 16,
   "id": "40f8ce69-55cf-4014-a560-ec8ab3fd5eec",
   "metadata": {},
   "outputs": [],
   "source": [
    "# Import timeit.\n",
    "import timeit"
   ]
  },
  {
   "cell_type": "code",
   "execution_count": 17,
   "id": "bf1c2f40-fbcf-4f95-8be3-b8ee6015aade",
   "metadata": {},
   "outputs": [
    {
     "name": "stdout",
     "output_type": "stream",
     "text": [
      "14.8 µs ± 461 ns per loop (mean ± std. dev. of 7 runs, 100000 loops each)\n"
     ]
    }
   ],
   "source": [
    "%timeit np.random.uniform(-90.000, 90.000, size=1500)"
   ]
  },
  {
   "cell_type": "code",
   "execution_count": 18,
   "id": "02ef9364-d087-4fe3-a958-2a0f24fde2cb",
   "metadata": {},
   "outputs": [
    {
     "name": "stdout",
     "output_type": "stream",
     "text": [
      "2.21 ms ± 168 µs per loop (mean ± std. dev. of 7 runs, 100 loops each)\n"
     ]
    }
   ],
   "source": [
    "def latitudes(size):\n",
    "    latitudes = []\n",
    "    x = 0\n",
    "    while x < (size):\n",
    "        random_lat = random.randint(-90, 90) + random.random()\n",
    "        latitudes.append(random_lat)\n",
    "        x += 1\n",
    "    return latitudes\n",
    "# Call the function with 1500.\n",
    "%timeit latitudes(1500)"
   ]
  },
  {
   "cell_type": "code",
   "execution_count": null,
   "id": "8e47789d-f8de-4e9c-b600-7dd39848f211",
   "metadata": {},
   "outputs": [],
   "source": []
  }
 ],
 "metadata": {
  "kernelspec": {
   "display_name": "PythonData",
   "language": "python",
   "name": "pythondata"
  },
  "language_info": {
   "codemirror_mode": {
    "name": "ipython",
    "version": 3
   },
   "file_extension": ".py",
   "mimetype": "text/x-python",
   "name": "python",
   "nbconvert_exporter": "python",
   "pygments_lexer": "ipython3",
   "version": "3.7.13"
  }
 },
 "nbformat": 4,
 "nbformat_minor": 5
}
